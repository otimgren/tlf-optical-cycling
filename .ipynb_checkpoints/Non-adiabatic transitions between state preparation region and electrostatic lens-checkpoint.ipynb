{
 "cells": [
  {
   "cell_type": "markdown",
   "metadata": {},
   "source": [
    "# Non-adiabatic transitions: state preparation region and electrostatic lens"
   ]
  },
  {
   "cell_type": "markdown",
   "metadata": {},
   "source": [
    "This document aims to calculate the probability of non-adiabatic transitions when molecules move between the different beamline elements of the Centrex experiment. These kinds of difficult to control transitions may result in large losses of the molecule population due to losing molecules to unknown states. This can cause problems in many places along the beamline (mostly in places where there a quick and/or large changes in applied electromagnetic fields), but in this document I am focusing on the passage to the electrostatic lens from the state preparation region that precedes it. The goal is to calculate th transition probabilities analytically in order to obtain some intuition to complement Olivier's numerical calculations.\n",
    "\n",
    "I will begin by describing the quantum state of the molecules after state selection, both in the uncoupled |J,mJ, I1, m1, I2, m2> and the coupled |F, mF, F1, J, I1, I2> basis. This is information that will be used throughout the calculation. After this I will specialize to a simple example calculation that presents the losses due to non-adiabatic transitions if we don't take any measures to prevent them."
   ]
  },
  {
   "cell_type": "markdown",
   "metadata": {},
   "source": [
    "## Defining angular momentum states as Python classes"
   ]
  },
  {
   "cell_type": "markdown",
   "metadata": {},
   "source": [
    "This section is pretty much copied from Jakob Kastelic's 'TlF Hamiltonian.py' (version of Jan 2019), with some small additions. We define classes for the coupled and uncoupled basis states, and also a class for states which are superpositions of the basis states. The idea is to make the classes follow the mathematical rules of bras and kets as closely as possible. "
   ]
  },
  {
   "cell_type": "code",
   "execution_count": 1,
   "metadata": {},
   "outputs": [],
   "source": [
    "import numpy as np\n",
    "import sympy as sp\n",
    "from sympy.physics.quantum.cg import CG\n",
    "from sympy import S\n",
    "from sympy import N\n",
    "from classes import CoupledBasisState, UncoupledBasisState, State"
   ]
  },
  {
   "cell_type": "markdown",
   "metadata": {},
   "source": [
    "## Quantum state after state preparation"
   ]
  },
  {
   "cell_type": "markdown",
   "metadata": {},
   "source": [
    "In this section I will describe the quantum state of the molecules prepared in the state preparation region. The goal is to find the $|F,m_F>$ state that will give us maximum population in the $|J = 2, m_J = 0>$ state. We don't care about the nuclear spin states while inside the lens since they don't affect the Stark shift; however, the nuclear spins might matter after the lens so maybe we do care, unclear.\n",
    "\n",
    "We'll use the coupling scheme $F = I_2 + F_1$ and $F_1 = J + I_1 $ and the relation $|J M\\rangle = \\sum_{m_1 = - j_1}^{j_1} \\sum_{m_2 = - j_2}^{j_2} |j_1 m_1 j_2 m_2\\rangle\\langle j_1 m_1 j_2 m_2|J M\\rangle$ to transform from the coupled basis (in which the Hamiltonian is diagonal) to the uncoupled basis. Decoupling $I_2$ and $F_1$ gives\n",
    "\n",
    "$$ |F, m_F\\rangle = \\sum_{m_{F_1} = - F_1}^{F_1} \\sum_{m_2 = - I_2}^{I_2} |F_1, m_{F_1}, I_2, m_2\\rangle\\langle F_1, m_{F_1}, I_2, m_2|F, m_F\\rangle $$\n",
    "\n",
    "and then decoupling $F_1$ and $I_1$\n",
    "\n",
    "$$ |F, m_F, F_1, J, I_1, I_2\\rangle = \\sum_{m_{F_1} = - F_1}^{F_1} \\sum_{m_2 = - I_2}^{I_2} \\sum_{m_J = - J}^{J} \\sum_{m_1 = - I_1}^{I_1}|J, m_J, I_1, m_1, I_2, m_2\\rangle\\langle J, m_J, I_1, m_1|F_1, m_{F_1}\\rangle \\langle F_1, m_{F_1}, I_2, m_2|F, m_F\\rangle $$\n",
    "\n",
    "Since $J = 2$ and $m_J = 0$ the only possible values for F are $F = 3,2,2,1$ and those for $m_F$ are $m_F = -1, 0, 1$. $F_1$ can be $5/2$ or $3/2$. Now let's see what the  $|J = 2, m_J = 0>$ content of the different states is:"
   ]
  },
  {
   "cell_type": "code",
   "execution_count": 2,
   "metadata": {},
   "outputs": [
    {
     "name": "stdout",
     "output_type": "stream",
     "text": [
      "|F = 1, m_F = -1, F1 = 3/2, J = 2, I1 = 1/2, I2 = 1/2>\n",
      "+0.7746 x |J = 2, mJ = -2, I1 = 1/2, m1 = 1/2, I2 = 1/2, m2 = 1/2>\n",
      "-0.3873 x |J = 2, mJ = -1, I1 = 1/2, m1 = -1/2, I2 = 1/2, m2 = 1/2>\n",
      "-0.3873 x |J = 2, mJ = -1, I1 = 1/2, m1 = 1/2, I2 = 1/2, m2 = -1/2>\n",
      "+0.3162 x |J = 2, mJ = 0, I1 = 1/2, m1 = -1/2, I2 = 1/2, m2 = -1/2>\n",
      "\n",
      "|F = 1, m_F = 0, F1 = 3/2, J = 2, I1 = 1/2, I2 = 1/2>\n",
      "+0.5477 x |J = 2, mJ = -1, I1 = 1/2, m1 = 1/2, I2 = 1/2, m2 = 1/2>\n",
      "-0.4472 x |J = 2, mJ = 0, I1 = 1/2, m1 = -1/2, I2 = 1/2, m2 = 1/2>\n",
      "-0.4472 x |J = 2, mJ = 0, I1 = 1/2, m1 = 1/2, I2 = 1/2, m2 = -1/2>\n",
      "+0.5477 x |J = 2, mJ = 1, I1 = 1/2, m1 = -1/2, I2 = 1/2, m2 = -1/2>\n",
      "\n",
      "|F = 1, m_F = 1, F1 = 3/2, J = 2, I1 = 1/2, I2 = 1/2>\n",
      "+0.3162 x |J = 2, mJ = 0, I1 = 1/2, m1 = 1/2, I2 = 1/2, m2 = 1/2>\n",
      "-0.3873 x |J = 2, mJ = 1, I1 = 1/2, m1 = -1/2, I2 = 1/2, m2 = 1/2>\n",
      "-0.3873 x |J = 2, mJ = 1, I1 = 1/2, m1 = 1/2, I2 = 1/2, m2 = -1/2>\n",
      "+0.7746 x |J = 2, mJ = 2, I1 = 1/2, m1 = -1/2, I2 = 1/2, m2 = -1/2>\n",
      "\n",
      "|F = 2, m_F = -1, F1 = 3/2, J = 2, I1 = 1/2, I2 = 1/2>\n",
      "-0.4472 x |J = 2, mJ = -2, I1 = 1/2, m1 = 1/2, I2 = 1/2, m2 = 1/2>\n",
      "+0.2236 x |J = 2, mJ = -1, I1 = 1/2, m1 = -1/2, I2 = 1/2, m2 = 1/2>\n",
      "-0.6708 x |J = 2, mJ = -1, I1 = 1/2, m1 = 1/2, I2 = 1/2, m2 = -1/2>\n",
      "+0.5477 x |J = 2, mJ = 0, I1 = 1/2, m1 = -1/2, I2 = 1/2, m2 = -1/2>\n",
      "\n",
      "|F = 2, m_F = 0, F1 = 3/2, J = 2, I1 = 1/2, I2 = 1/2>\n",
      "-0.5477 x |J = 2, mJ = -1, I1 = 1/2, m1 = 1/2, I2 = 1/2, m2 = 1/2>\n",
      "+0.4472 x |J = 2, mJ = 0, I1 = 1/2, m1 = -1/2, I2 = 1/2, m2 = 1/2>\n",
      "-0.4472 x |J = 2, mJ = 0, I1 = 1/2, m1 = 1/2, I2 = 1/2, m2 = -1/2>\n",
      "+0.5477 x |J = 2, mJ = 1, I1 = 1/2, m1 = -1/2, I2 = 1/2, m2 = -1/2>\n",
      "\n",
      "|F = 2, m_F = 1, F1 = 3/2, J = 2, I1 = 1/2, I2 = 1/2>\n",
      "-0.5477 x |J = 2, mJ = 0, I1 = 1/2, m1 = 1/2, I2 = 1/2, m2 = 1/2>\n",
      "+0.6708 x |J = 2, mJ = 1, I1 = 1/2, m1 = -1/2, I2 = 1/2, m2 = 1/2>\n",
      "-0.2236 x |J = 2, mJ = 1, I1 = 1/2, m1 = 1/2, I2 = 1/2, m2 = -1/2>\n",
      "+0.4472 x |J = 2, mJ = 2, I1 = 1/2, m1 = -1/2, I2 = 1/2, m2 = -1/2>\n",
      "\n",
      "|F = 2, m_F = -1, F1 = 5/2, J = 2, I1 = 1/2, I2 = 1/2>\n",
      "-0.3651 x |J = 2, mJ = -2, I1 = 1/2, m1 = 1/2, I2 = 1/2, m2 = 1/2>\n",
      "-0.7303 x |J = 2, mJ = -1, I1 = 1/2, m1 = -1/2, I2 = 1/2, m2 = 1/2>\n",
      "+0.3651 x |J = 2, mJ = -1, I1 = 1/2, m1 = 1/2, I2 = 1/2, m2 = -1/2>\n",
      "+0.4472 x |J = 2, mJ = 0, I1 = 1/2, m1 = -1/2, I2 = 1/2, m2 = -1/2>\n",
      "\n",
      "|F = 2, m_F = 0, F1 = 5/2, J = 2, I1 = 1/2, I2 = 1/2>\n",
      "-0.4472 x |J = 2, mJ = -1, I1 = 1/2, m1 = 1/2, I2 = 1/2, m2 = 1/2>\n",
      "-0.5477 x |J = 2, mJ = 0, I1 = 1/2, m1 = -1/2, I2 = 1/2, m2 = 1/2>\n",
      "+0.5477 x |J = 2, mJ = 0, I1 = 1/2, m1 = 1/2, I2 = 1/2, m2 = -1/2>\n",
      "+0.4472 x |J = 2, mJ = 1, I1 = 1/2, m1 = -1/2, I2 = 1/2, m2 = -1/2>\n",
      "\n",
      "|F = 2, m_F = 1, F1 = 5/2, J = 2, I1 = 1/2, I2 = 1/2>\n",
      "-0.4472 x |J = 2, mJ = 0, I1 = 1/2, m1 = 1/2, I2 = 1/2, m2 = 1/2>\n",
      "-0.3651 x |J = 2, mJ = 1, I1 = 1/2, m1 = -1/2, I2 = 1/2, m2 = 1/2>\n",
      "+0.7303 x |J = 2, mJ = 1, I1 = 1/2, m1 = 1/2, I2 = 1/2, m2 = -1/2>\n",
      "+0.3651 x |J = 2, mJ = 2, I1 = 1/2, m1 = -1/2, I2 = 1/2, m2 = -1/2>\n",
      "\n",
      "|F = 3, m_F = -1, F1 = 5/2, J = 2, I1 = 1/2, I2 = 1/2>\n",
      "+0.2582 x |J = 2, mJ = -2, I1 = 1/2, m1 = 1/2, I2 = 1/2, m2 = 1/2>\n",
      "+0.5164 x |J = 2, mJ = -1, I1 = 1/2, m1 = -1/2, I2 = 1/2, m2 = 1/2>\n",
      "+0.5164 x |J = 2, mJ = -1, I1 = 1/2, m1 = 1/2, I2 = 1/2, m2 = -1/2>\n",
      "+0.6325 x |J = 2, mJ = 0, I1 = 1/2, m1 = -1/2, I2 = 1/2, m2 = -1/2>\n",
      "\n",
      "|F = 3, m_F = 0, F1 = 5/2, J = 2, I1 = 1/2, I2 = 1/2>\n",
      "+0.4472 x |J = 2, mJ = -1, I1 = 1/2, m1 = 1/2, I2 = 1/2, m2 = 1/2>\n",
      "+0.5477 x |J = 2, mJ = 0, I1 = 1/2, m1 = -1/2, I2 = 1/2, m2 = 1/2>\n",
      "+0.5477 x |J = 2, mJ = 0, I1 = 1/2, m1 = 1/2, I2 = 1/2, m2 = -1/2>\n",
      "+0.4472 x |J = 2, mJ = 1, I1 = 1/2, m1 = -1/2, I2 = 1/2, m2 = -1/2>\n",
      "\n",
      "|F = 3, m_F = 1, F1 = 5/2, J = 2, I1 = 1/2, I2 = 1/2>\n",
      "+0.6325 x |J = 2, mJ = 0, I1 = 1/2, m1 = 1/2, I2 = 1/2, m2 = 1/2>\n",
      "+0.5164 x |J = 2, mJ = 1, I1 = 1/2, m1 = -1/2, I2 = 1/2, m2 = 1/2>\n",
      "+0.5164 x |J = 2, mJ = 1, I1 = 1/2, m1 = 1/2, I2 = 1/2, m2 = -1/2>\n",
      "+0.2582 x |J = 2, mJ = 2, I1 = 1/2, m1 = -1/2, I2 = 1/2, m2 = -1/2>\n",
      "\n"
     ]
    }
   ],
   "source": [
    "#Set the possible values of the quantum numbers:\n",
    "Fs = (1,2,2,3)\n",
    "mFs = (-1,0,1)\n",
    "F1s = (3/2,3/2,5/2,5/2)\n",
    "J = 2\n",
    "I1 = 1/2\n",
    "I2 = 1/2\n",
    "\n",
    "for i in range(0,len(Fs)):\n",
    "    F = Fs[i]\n",
    "    F1 = F1s[i]\n",
    "    for mF in mFs:\n",
    "        state = CoupledBasisState(F,mF,F1,J,I1,I2)\n",
    "        state.print_quantum_numbers()\n",
    "        state.transform_to_uncoupled().print_state()\n",
    "        print(\"\")"
   ]
  },
  {
   "cell_type": "markdown",
   "metadata": {},
   "source": [
    "Also calculate probability of being in $|J = 2, m_J = 0>$ for each of these states."
   ]
  },
  {
   "cell_type": "code",
   "execution_count": 3,
   "metadata": {},
   "outputs": [
    {
     "name": "stdout",
     "output_type": "stream",
     "text": [
      "|F = 1, m_F = -1, F1 = 3/2, J = 2, I1 = 1/2, I2 = 1/2>\n",
      "Probability of ending up in |J = 2,mJ = 0> is p = 0.1000 \n",
      "\n",
      "|F = 1, m_F = 0, F1 = 3/2, J = 2, I1 = 1/2, I2 = 1/2>\n",
      "Probability of ending up in |J = 2,mJ = 0> is p = 0.4000 \n",
      "\n",
      "|F = 1, m_F = 1, F1 = 3/2, J = 2, I1 = 1/2, I2 = 1/2>\n",
      "Probability of ending up in |J = 2,mJ = 0> is p = 0.1000 \n",
      "\n",
      "|F = 2, m_F = -1, F1 = 3/2, J = 2, I1 = 1/2, I2 = 1/2>\n",
      "Probability of ending up in |J = 2,mJ = 0> is p = 0.3000 \n",
      "\n",
      "|F = 2, m_F = 0, F1 = 3/2, J = 2, I1 = 1/2, I2 = 1/2>\n",
      "Probability of ending up in |J = 2,mJ = 0> is p = 0.4000 \n",
      "\n",
      "|F = 2, m_F = 1, F1 = 3/2, J = 2, I1 = 1/2, I2 = 1/2>\n",
      "Probability of ending up in |J = 2,mJ = 0> is p = 0.3000 \n",
      "\n",
      "|F = 2, m_F = -1, F1 = 5/2, J = 2, I1 = 1/2, I2 = 1/2>\n",
      "Probability of ending up in |J = 2,mJ = 0> is p = 0.2000 \n",
      "\n",
      "|F = 2, m_F = 0, F1 = 5/2, J = 2, I1 = 1/2, I2 = 1/2>\n",
      "Probability of ending up in |J = 2,mJ = 0> is p = 0.6000 \n",
      "\n",
      "|F = 2, m_F = 1, F1 = 5/2, J = 2, I1 = 1/2, I2 = 1/2>\n",
      "Probability of ending up in |J = 2,mJ = 0> is p = 0.2000 \n",
      "\n",
      "|F = 3, m_F = -1, F1 = 5/2, J = 2, I1 = 1/2, I2 = 1/2>\n",
      "Probability of ending up in |J = 2,mJ = 0> is p = 0.4000 \n",
      "\n",
      "|F = 3, m_F = 0, F1 = 5/2, J = 2, I1 = 1/2, I2 = 1/2>\n",
      "Probability of ending up in |J = 2,mJ = 0> is p = 0.6000 \n",
      "\n",
      "|F = 3, m_F = 1, F1 = 5/2, J = 2, I1 = 1/2, I2 = 1/2>\n",
      "Probability of ending up in |J = 2,mJ = 0> is p = 0.4000 \n",
      "\n"
     ]
    }
   ],
   "source": [
    "mJ = 0\n",
    "m1s = np.arange(-I1,I1+1,1)\n",
    "m2s = np.arange(-I2,I2+1,1)\n",
    "\n",
    "for i in range(0,len(Fs)):\n",
    "    F = Fs[i]\n",
    "    F1 = F1s[i]\n",
    "    for mF in mFs:\n",
    "        state = CoupledBasisState(F,mF,F1,J,I1,I2)\n",
    "        state.print_quantum_numbers()\n",
    "        state = state.transform_to_uncoupled()\n",
    "        p = 0\n",
    "        for m1 in m1s:\n",
    "            for m2 in m2s:\n",
    "                basis_state = State([(1.0, UncoupledBasisState(J,mJ,I1,m1,I2,m2))])\n",
    "                p += float((N(basis_state@state)))**2\n",
    "        print(\"Probability of ending up in |J = 2,mJ = 0> is p = {:.4f} \\n\".format(p))"
   ]
  },
  {
   "cell_type": "markdown",
   "metadata": {},
   "source": [
    "Thus, at best, we can expect 60% of the molecules to automatically transfer to the desired $|J = 2, m_J = 0>$ state."
   ]
  },
  {
   "cell_type": "markdown",
   "metadata": {},
   "source": [
    "We can also go the other way, i.e. decompose $|J = 2, m_J = 0>$ into the coupled basis. To do this we simply use\n",
    "\n",
    "$$ |J, m_J, I_1, m_1, m_2\\rangle = \\sum |F, m_F, F_1, J, I_1, I_2\\rangle \\langle F, m_F, F_1, J, I_1, I_2,|J, m_J, I_1, m_1, m_2, \\rangle $$"
   ]
  },
  {
   "cell_type": "code",
   "execution_count": 4,
   "metadata": {},
   "outputs": [
    {
     "name": "stdout",
     "output_type": "stream",
     "text": [
      "|J = 2, mJ = 0, I1 = 1/2, m1 = -1/2, I2 = 1/2, m2 = -1/2>\n",
      "=\n",
      "+0.3162 x |F = 1, mF = -1, F1 = 3/2, J = 2, I1 = 1/2, I2 = 1/2>\n",
      "+0.5477 x |F = 2, mF = -1, F1 = 3/2, J = 2, I1 = 1/2, I2 = 1/2>\n",
      "+0.4472 x |F = 2, mF = -1, F1 = 5/2, J = 2, I1 = 1/2, I2 = 1/2>\n",
      "+0.6325 x |F = 3, mF = -1, F1 = 5/2, J = 2, I1 = 1/2, I2 = 1/2>\n",
      "\n",
      "|J = 2, mJ = 0, I1 = 1/2, m1 = -1/2, I2 = 1/2, m2 = 1/2>\n",
      "=\n",
      "-0.4472 x |F = 1, mF = 0, F1 = 3/2, J = 2, I1 = 1/2, I2 = 1/2>\n",
      "+0.4472 x |F = 2, mF = 0, F1 = 3/2, J = 2, I1 = 1/2, I2 = 1/2>\n",
      "-0.5477 x |F = 2, mF = 0, F1 = 5/2, J = 2, I1 = 1/2, I2 = 1/2>\n",
      "+0.5477 x |F = 3, mF = 0, F1 = 5/2, J = 2, I1 = 1/2, I2 = 1/2>\n",
      "\n",
      "|J = 2, mJ = 0, I1 = 1/2, m1 = 1/2, I2 = 1/2, m2 = -1/2>\n",
      "=\n",
      "-0.4472 x |F = 1, mF = 0, F1 = 3/2, J = 2, I1 = 1/2, I2 = 1/2>\n",
      "-0.4472 x |F = 2, mF = 0, F1 = 3/2, J = 2, I1 = 1/2, I2 = 1/2>\n",
      "+0.5477 x |F = 2, mF = 0, F1 = 5/2, J = 2, I1 = 1/2, I2 = 1/2>\n",
      "+0.5477 x |F = 3, mF = 0, F1 = 5/2, J = 2, I1 = 1/2, I2 = 1/2>\n",
      "\n",
      "|J = 2, mJ = 0, I1 = 1/2, m1 = 1/2, I2 = 1/2, m2 = 1/2>\n",
      "=\n",
      "+0.3162 x |F = 1, mF = 1, F1 = 3/2, J = 2, I1 = 1/2, I2 = 1/2>\n",
      "-0.5477 x |F = 2, mF = 1, F1 = 3/2, J = 2, I1 = 1/2, I2 = 1/2>\n",
      "-0.4472 x |F = 2, mF = 1, F1 = 5/2, J = 2, I1 = 1/2, I2 = 1/2>\n",
      "+0.6325 x |F = 3, mF = 1, F1 = 5/2, J = 2, I1 = 1/2, I2 = 1/2>\n",
      "\n"
     ]
    }
   ],
   "source": [
    "for m1 in m1s:\n",
    "    for m2 in m2s:\n",
    "        data = []\n",
    "        UncoupledBasisState(J,mJ,I1,m1,I2,m2).print_quantum_numbers()\n",
    "        uncoupled_state = State([(1.0, UncoupledBasisState(J,mJ,I1,m1,I2,m2))])\n",
    "        for i in range(0,len(Fs)):\n",
    "            F = Fs[i]\n",
    "            F1 = F1s[i]\n",
    "            for mF in mFs:\n",
    "                coupled_state = CoupledBasisState(F,mF,F1,J,I1,I2).transform_to_uncoupled()\n",
    "                amp = uncoupled_state@coupled_state\n",
    "                data.append((amp, CoupledBasisState(F,mF,F1,J,I1,I2)))\n",
    "        print('=')\n",
    "        State(data).print_state()\n",
    "        print('')"
   ]
  },
  {
   "cell_type": "markdown",
   "metadata": {},
   "source": [
    "## From state preparation to lens: non-adiabatic transitions"
   ]
  },
  {
   "cell_type": "markdown",
   "metadata": {},
   "source": []
  },
  {
   "cell_type": "markdown",
   "metadata": {},
   "source": [
    "# To do"
   ]
  },
  {
   "cell_type": "markdown",
   "metadata": {},
   "source": [
    "- Test to make sure the basis transformation is working correctly\n",
    "- Non-adiabatic transitions in various field configurations"
   ]
  },
  {
   "cell_type": "code",
   "execution_count": null,
   "metadata": {},
   "outputs": [],
   "source": []
  }
 ],
 "metadata": {
  "kernelspec": {
   "display_name": "Python 3",
   "language": "python",
   "name": "python3"
  },
  "language_info": {
   "codemirror_mode": {
    "name": "ipython",
    "version": 3
   },
   "file_extension": ".py",
   "mimetype": "text/x-python",
   "name": "python",
   "nbconvert_exporter": "python",
   "pygments_lexer": "ipython3",
   "version": "3.7.0"
  }
 },
 "nbformat": 4,
 "nbformat_minor": 2
}
